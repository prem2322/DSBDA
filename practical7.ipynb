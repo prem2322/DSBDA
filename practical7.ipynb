{
 "cells": [
  {
   "cell_type": "code",
   "execution_count": 1,
   "id": "02ccf91e-e513-4586-ad4a-66f5b9219d5a",
   "metadata": {},
   "outputs": [
    {
     "name": "stderr",
     "output_type": "stream",
     "text": [
      "[nltk_data] Downloading package stopwords to C:\\Users\\PREM\n",
      "[nltk_data]     ARDWAD\\AppData\\Roaming\\nltk_data...\n",
      "[nltk_data]   Package stopwords is already up-to-date!\n",
      "[nltk_data] Downloading package punkt to C:\\Users\\PREM\n",
      "[nltk_data]     ARDWAD\\AppData\\Roaming\\nltk_data...\n",
      "[nltk_data]   Package punkt is already up-to-date!\n",
      "[nltk_data] Downloading package wordnet to C:\\Users\\PREM\n",
      "[nltk_data]     ARDWAD\\AppData\\Roaming\\nltk_data...\n",
      "[nltk_data]   Package wordnet is already up-to-date!\n",
      "[nltk_data] Downloading package averaged_perceptron_tagger to\n",
      "[nltk_data]     C:\\Users\\PREM ARDWAD\\AppData\\Roaming\\nltk_data...\n",
      "[nltk_data]   Package averaged_perceptron_tagger is already up-to-\n",
      "[nltk_data]       date!\n"
     ]
    },
    {
     "data": {
      "text/plain": [
       "True"
      ]
     },
     "execution_count": 1,
     "metadata": {},
     "output_type": "execute_result"
    }
   ],
   "source": [
    "import nltk\n",
    "nltk.download('stopwords')\n",
    "nltk.download('punkt')\n",
    "nltk.download('wordnet')\n",
    "nltk.download('averaged_perceptron_tagger')"
   ]
  },
  {
   "cell_type": "code",
   "execution_count": 2,
   "id": "faf13663-31c3-4b6b-91c3-4d2e72491204",
   "metadata": {},
   "outputs": [],
   "source": [
    "import nltk\n",
    "para = \"The Ellora Caves, located near Aurangabad in Maharashtra, India, are a UNESCO World Heritage Site renowned for their impressive rock-cut temples and monasteries. These caves showcase a unique blend of Buddhist, Hindu, and Jain religious art and architecture, dating back to the 6th to 10th centuries CE\""
   ]
  },
  {
   "cell_type": "code",
   "execution_count": 3,
   "id": "4ac9f84f-473e-41fd-8b82-5545402d5536",
   "metadata": {},
   "outputs": [
    {
     "name": "stdout",
     "output_type": "stream",
     "text": [
      "The Ellora Caves, located near Aurangabad in Maharashtra, India, are a UNESCO World Heritage Site renowned for their impressive rock-cut temples and monasteries. These caves showcase a unique blend of Buddhist, Hindu, and Jain religious art and architecture, dating back to the 6th to 10th centuries CE\n"
     ]
    }
   ],
   "source": [
    "print(para)"
   ]
  },
  {
   "cell_type": "code",
   "execution_count": 4,
   "id": "ad444235-4ca8-44ad-a9d3-a3e3d153aa79",
   "metadata": {},
   "outputs": [
    {
     "data": {
      "text/plain": [
       "['The',\n",
       " 'Ellora',\n",
       " 'Caves,',\n",
       " 'located',\n",
       " 'near',\n",
       " 'Aurangabad',\n",
       " 'in',\n",
       " 'Maharashtra,',\n",
       " 'India,',\n",
       " 'are',\n",
       " 'a',\n",
       " 'UNESCO',\n",
       " 'World',\n",
       " 'Heritage',\n",
       " 'Site',\n",
       " 'renowned',\n",
       " 'for',\n",
       " 'their',\n",
       " 'impressive',\n",
       " 'rock-cut',\n",
       " 'temples',\n",
       " 'and',\n",
       " 'monasteries.',\n",
       " 'These',\n",
       " 'caves',\n",
       " 'showcase',\n",
       " 'a',\n",
       " 'unique',\n",
       " 'blend',\n",
       " 'of',\n",
       " 'Buddhist,',\n",
       " 'Hindu,',\n",
       " 'and',\n",
       " 'Jain',\n",
       " 'religious',\n",
       " 'art',\n",
       " 'and',\n",
       " 'architecture,',\n",
       " 'dating',\n",
       " 'back',\n",
       " 'to',\n",
       " 'the',\n",
       " '6th',\n",
       " 'to',\n",
       " '10th',\n",
       " 'centuries',\n",
       " 'CE']"
      ]
     },
     "execution_count": 4,
     "metadata": {},
     "output_type": "execute_result"
    }
   ],
   "source": [
    "para.split ( )"
   ]
  },
  {
   "cell_type": "code",
   "execution_count": 5,
   "id": "efa81372-84b6-4b17-90b2-af0f5af8e999",
   "metadata": {},
   "outputs": [],
   "source": [
    "from nltk.tokenize import sent_tokenize\n",
    "from nltk.tokenize import word_tokenize"
   ]
  },
  {
   "cell_type": "code",
   "execution_count": 6,
   "id": "56b3585e-c60e-400c-9952-db235b1526e2",
   "metadata": {},
   "outputs": [
    {
     "name": "stderr",
     "output_type": "stream",
     "text": [
      "[nltk_data] Downloading package punkt_tab to C:\\Users\\PREM\n",
      "[nltk_data]     ARDWAD\\AppData\\Roaming\\nltk_data...\n",
      "[nltk_data]   Package punkt_tab is already up-to-date!\n"
     ]
    },
    {
     "data": {
      "text/plain": [
       "True"
      ]
     },
     "execution_count": 6,
     "metadata": {},
     "output_type": "execute_result"
    }
   ],
   "source": [
    "import nltk\n",
    "nltk.download('punkt_tab')"
   ]
  },
  {
   "cell_type": "code",
   "execution_count": 9,
   "id": "f5cdf952-e9c0-418b-a3f7-99ffe641e4a9",
   "metadata": {},
   "outputs": [
    {
     "data": {
      "text/plain": [
       "'These caves showcase a unique blend of Buddhist, Hindu, and Jain religious art and architecture, dating back to the 6th to 10th centuries CE'"
      ]
     },
     "execution_count": 9,
     "metadata": {},
     "output_type": "execute_result"
    }
   ],
   "source": [
    "sent=sent_tokenize(para)\n",
    "sent[1]"
   ]
  },
  {
   "cell_type": "code",
   "execution_count": 10,
   "id": "d6b0efbc-91a3-4666-9874-59f7c8398922",
   "metadata": {},
   "outputs": [],
   "source": [
    "words=word_tokenize(para)"
   ]
  },
  {
   "cell_type": "code",
   "execution_count": 11,
   "id": "d6f423cc-2e0f-476e-822c-f482ec02e6e2",
   "metadata": {},
   "outputs": [
    {
     "data": {
      "text/plain": [
       "['The',\n",
       " 'Ellora',\n",
       " 'Caves',\n",
       " ',',\n",
       " 'located',\n",
       " 'near',\n",
       " 'Aurangabad',\n",
       " 'in',\n",
       " 'Maharashtra',\n",
       " ',',\n",
       " 'India',\n",
       " ',',\n",
       " 'are',\n",
       " 'a',\n",
       " 'UNESCO',\n",
       " 'World',\n",
       " 'Heritage',\n",
       " 'Site',\n",
       " 'renowned',\n",
       " 'for',\n",
       " 'their',\n",
       " 'impressive',\n",
       " 'rock-cut',\n",
       " 'temples',\n",
       " 'and',\n",
       " 'monasteries',\n",
       " '.',\n",
       " 'These',\n",
       " 'caves',\n",
       " 'showcase',\n",
       " 'a',\n",
       " 'unique',\n",
       " 'blend',\n",
       " 'of',\n",
       " 'Buddhist',\n",
       " ',',\n",
       " 'Hindu',\n",
       " ',',\n",
       " 'and',\n",
       " 'Jain',\n",
       " 'religious',\n",
       " 'art',\n",
       " 'and',\n",
       " 'architecture',\n",
       " ',',\n",
       " 'dating',\n",
       " 'back',\n",
       " 'to',\n",
       " 'the',\n",
       " '6th',\n",
       " 'to',\n",
       " '10th',\n",
       " 'centuries',\n",
       " 'CE']"
      ]
     },
     "execution_count": 11,
     "metadata": {},
     "output_type": "execute_result"
    }
   ],
   "source": [
    "words"
   ]
  },
  {
   "cell_type": "code",
   "execution_count": 12,
   "id": "b494c02f-cb3b-4d6e-824f-a6ddb381cca1",
   "metadata": {},
   "outputs": [],
   "source": [
    "from nltk.corpus import stopwords"
   ]
  },
  {
   "cell_type": "code",
   "execution_count": 13,
   "id": "2a051888-2f2b-4cf0-8d22-6f8495f538fa",
   "metadata": {},
   "outputs": [],
   "source": [
    "swords=stopwords.words('english')"
   ]
  },
  {
   "cell_type": "code",
   "execution_count": 14,
   "id": "24f417e2-d817-417d-9a4f-097c4c62afb5",
   "metadata": {},
   "outputs": [
    {
     "data": {
      "text/plain": [
       "['a',\n",
       " 'about',\n",
       " 'above',\n",
       " 'after',\n",
       " 'again',\n",
       " 'against',\n",
       " 'ain',\n",
       " 'all',\n",
       " 'am',\n",
       " 'an',\n",
       " 'and',\n",
       " 'any',\n",
       " 'are',\n",
       " 'aren',\n",
       " \"aren't\",\n",
       " 'as',\n",
       " 'at',\n",
       " 'be',\n",
       " 'because',\n",
       " 'been',\n",
       " 'before',\n",
       " 'being',\n",
       " 'below',\n",
       " 'between',\n",
       " 'both',\n",
       " 'but',\n",
       " 'by',\n",
       " 'can',\n",
       " 'couldn',\n",
       " \"couldn't\",\n",
       " 'd',\n",
       " 'did',\n",
       " 'didn',\n",
       " \"didn't\",\n",
       " 'do',\n",
       " 'does',\n",
       " 'doesn',\n",
       " \"doesn't\",\n",
       " 'doing',\n",
       " 'don',\n",
       " \"don't\",\n",
       " 'down',\n",
       " 'during',\n",
       " 'each',\n",
       " 'few',\n",
       " 'for',\n",
       " 'from',\n",
       " 'further',\n",
       " 'had',\n",
       " 'hadn',\n",
       " \"hadn't\",\n",
       " 'has',\n",
       " 'hasn',\n",
       " \"hasn't\",\n",
       " 'have',\n",
       " 'haven',\n",
       " \"haven't\",\n",
       " 'having',\n",
       " 'he',\n",
       " \"he'd\",\n",
       " \"he'll\",\n",
       " 'her',\n",
       " 'here',\n",
       " 'hers',\n",
       " 'herself',\n",
       " \"he's\",\n",
       " 'him',\n",
       " 'himself',\n",
       " 'his',\n",
       " 'how',\n",
       " 'i',\n",
       " \"i'd\",\n",
       " 'if',\n",
       " \"i'll\",\n",
       " \"i'm\",\n",
       " 'in',\n",
       " 'into',\n",
       " 'is',\n",
       " 'isn',\n",
       " \"isn't\",\n",
       " 'it',\n",
       " \"it'd\",\n",
       " \"it'll\",\n",
       " \"it's\",\n",
       " 'its',\n",
       " 'itself',\n",
       " \"i've\",\n",
       " 'just',\n",
       " 'll',\n",
       " 'm',\n",
       " 'ma',\n",
       " 'me',\n",
       " 'mightn',\n",
       " \"mightn't\",\n",
       " 'more',\n",
       " 'most',\n",
       " 'mustn',\n",
       " \"mustn't\",\n",
       " 'my',\n",
       " 'myself',\n",
       " 'needn',\n",
       " \"needn't\",\n",
       " 'no',\n",
       " 'nor',\n",
       " 'not',\n",
       " 'now',\n",
       " 'o',\n",
       " 'of',\n",
       " 'off',\n",
       " 'on',\n",
       " 'once',\n",
       " 'only',\n",
       " 'or',\n",
       " 'other',\n",
       " 'our',\n",
       " 'ours',\n",
       " 'ourselves',\n",
       " 'out',\n",
       " 'over',\n",
       " 'own',\n",
       " 're',\n",
       " 's',\n",
       " 'same',\n",
       " 'shan',\n",
       " \"shan't\",\n",
       " 'she',\n",
       " \"she'd\",\n",
       " \"she'll\",\n",
       " \"she's\",\n",
       " 'should',\n",
       " 'shouldn',\n",
       " \"shouldn't\",\n",
       " \"should've\",\n",
       " 'so',\n",
       " 'some',\n",
       " 'such',\n",
       " 't',\n",
       " 'than',\n",
       " 'that',\n",
       " \"that'll\",\n",
       " 'the',\n",
       " 'their',\n",
       " 'theirs',\n",
       " 'them',\n",
       " 'themselves',\n",
       " 'then',\n",
       " 'there',\n",
       " 'these',\n",
       " 'they',\n",
       " \"they'd\",\n",
       " \"they'll\",\n",
       " \"they're\",\n",
       " \"they've\",\n",
       " 'this',\n",
       " 'those',\n",
       " 'through',\n",
       " 'to',\n",
       " 'too',\n",
       " 'under',\n",
       " 'until',\n",
       " 'up',\n",
       " 've',\n",
       " 'very',\n",
       " 'was',\n",
       " 'wasn',\n",
       " \"wasn't\",\n",
       " 'we',\n",
       " \"we'd\",\n",
       " \"we'll\",\n",
       " \"we're\",\n",
       " 'were',\n",
       " 'weren',\n",
       " \"weren't\",\n",
       " \"we've\",\n",
       " 'what',\n",
       " 'when',\n",
       " 'where',\n",
       " 'which',\n",
       " 'while',\n",
       " 'who',\n",
       " 'whom',\n",
       " 'why',\n",
       " 'will',\n",
       " 'with',\n",
       " 'won',\n",
       " \"won't\",\n",
       " 'wouldn',\n",
       " \"wouldn't\",\n",
       " 'y',\n",
       " 'you',\n",
       " \"you'd\",\n",
       " \"you'll\",\n",
       " 'your',\n",
       " \"you're\",\n",
       " 'yours',\n",
       " 'yourself',\n",
       " 'yourselves',\n",
       " \"you've\"]"
      ]
     },
     "execution_count": 14,
     "metadata": {},
     "output_type": "execute_result"
    }
   ],
   "source": [
    "swords"
   ]
  },
  {
   "cell_type": "code",
   "execution_count": 15,
   "id": "3db7323a-c0e2-4c28-bf0b-e62eea11302f",
   "metadata": {},
   "outputs": [],
   "source": [
    "x=[word for word in words if word not in swords]"
   ]
  },
  {
   "cell_type": "code",
   "execution_count": 16,
   "id": "0165009f-7124-484f-beeb-6c55833788e9",
   "metadata": {},
   "outputs": [
    {
     "data": {
      "text/plain": [
       "['The',\n",
       " 'Ellora',\n",
       " 'Caves',\n",
       " ',',\n",
       " 'located',\n",
       " 'near',\n",
       " 'Aurangabad',\n",
       " 'Maharashtra',\n",
       " ',',\n",
       " 'India',\n",
       " ',',\n",
       " 'UNESCO',\n",
       " 'World',\n",
       " 'Heritage',\n",
       " 'Site',\n",
       " 'renowned',\n",
       " 'impressive',\n",
       " 'rock-cut',\n",
       " 'temples',\n",
       " 'monasteries',\n",
       " '.',\n",
       " 'These',\n",
       " 'caves',\n",
       " 'showcase',\n",
       " 'unique',\n",
       " 'blend',\n",
       " 'Buddhist',\n",
       " ',',\n",
       " 'Hindu',\n",
       " ',',\n",
       " 'Jain',\n",
       " 'religious',\n",
       " 'art',\n",
       " 'architecture',\n",
       " ',',\n",
       " 'dating',\n",
       " 'back',\n",
       " '6th',\n",
       " '10th',\n",
       " 'centuries',\n",
       " 'CE']"
      ]
     },
     "execution_count": 16,
     "metadata": {},
     "output_type": "execute_result"
    }
   ],
   "source": [
    "x"
   ]
  },
  {
   "cell_type": "code",
   "execution_count": 17,
   "id": "de91c5ae-fbc4-4c8b-9d81-41b42facfe07",
   "metadata": {},
   "outputs": [],
   "source": [
    "from nltk.stem import PorterStemmer"
   ]
  },
  {
   "cell_type": "code",
   "execution_count": 18,
   "id": "7b8fc3f6-23f1-451c-9353-1d71d2d3b167",
   "metadata": {},
   "outputs": [],
   "source": [
    "ps=PorterStemmer()"
   ]
  },
  {
   "cell_type": "code",
   "execution_count": 19,
   "id": "556d88a6-ae36-45f6-9019-977b4d117a49",
   "metadata": {},
   "outputs": [
    {
     "data": {
      "text/plain": [
       "'work'"
      ]
     },
     "execution_count": 19,
     "metadata": {},
     "output_type": "execute_result"
    }
   ],
   "source": [
    "ps. stem('working')"
   ]
  },
  {
   "cell_type": "code",
   "execution_count": 20,
   "id": "9f0f71f7-9a7f-4350-8ade-1ed308ad3ebd",
   "metadata": {},
   "outputs": [],
   "source": [
    "y=[ps.stem(word) for word in x]"
   ]
  },
  {
   "cell_type": "code",
   "execution_count": 21,
   "id": "895da620-67f9-4ba0-986d-97319171d312",
   "metadata": {},
   "outputs": [
    {
     "data": {
      "text/plain": [
       "['the',\n",
       " 'ellora',\n",
       " 'cave',\n",
       " ',',\n",
       " 'locat',\n",
       " 'near',\n",
       " 'aurangabad',\n",
       " 'maharashtra',\n",
       " ',',\n",
       " 'india',\n",
       " ',',\n",
       " 'unesco',\n",
       " 'world',\n",
       " 'heritag',\n",
       " 'site',\n",
       " 'renown',\n",
       " 'impress',\n",
       " 'rock-cut',\n",
       " 'templ',\n",
       " 'monasteri',\n",
       " '.',\n",
       " 'these',\n",
       " 'cave',\n",
       " 'showcas',\n",
       " 'uniqu',\n",
       " 'blend',\n",
       " 'buddhist',\n",
       " ',',\n",
       " 'hindu',\n",
       " ',',\n",
       " 'jain',\n",
       " 'religi',\n",
       " 'art',\n",
       " 'architectur',\n",
       " ',',\n",
       " 'date',\n",
       " 'back',\n",
       " '6th',\n",
       " '10th',\n",
       " 'centuri',\n",
       " 'ce']"
      ]
     },
     "execution_count": 21,
     "metadata": {},
     "output_type": "execute_result"
    }
   ],
   "source": [
    "y"
   ]
  },
  {
   "cell_type": "code",
   "execution_count": 22,
   "id": "8e198be2-6ea6-455b-a701-dadbfe28a196",
   "metadata": {},
   "outputs": [],
   "source": [
    "from nltk.stem import WordNetLemmatizer"
   ]
  },
  {
   "cell_type": "code",
   "execution_count": 23,
   "id": "bcf77a20-3d90-4355-bdc9-d0a642c03351",
   "metadata": {},
   "outputs": [],
   "source": [
    "wnl = WordNetLemmatizer()"
   ]
  },
  {
   "cell_type": "code",
   "execution_count": 24,
   "id": "c3ae6aff-1129-4e89-a8cb-c252cbf6302a",
   "metadata": {},
   "outputs": [
    {
     "name": "stdout",
     "output_type": "stream",
     "text": [
      "work\n"
     ]
    }
   ],
   "source": [
    "print(wnl.lemmatize('working', pos='v'))\n",
    "#a-adjective\n",
    "#n-noun\n",
    "#r-adverb"
   ]
  },
  {
   "cell_type": "code",
   "execution_count": 25,
   "id": "600b5dea-1936-4c57-9226-4ed977b4b4da",
   "metadata": {},
   "outputs": [
    {
     "name": "stderr",
     "output_type": "stream",
     "text": [
      "[nltk_data] Downloading package omw-1.4 to C:\\Users\\PREM\n",
      "[nltk_data]     ARDWAD\\AppData\\Roaming\\nltk_data...\n",
      "[nltk_data]   Package omw-1.4 is already up-to-date!\n"
     ]
    },
    {
     "data": {
      "text/plain": [
       "True"
      ]
     },
     "execution_count": 25,
     "metadata": {},
     "output_type": "execute_result"
    }
   ],
   "source": [
    "nltk.download('omw-1.4')"
   ]
  },
  {
   "cell_type": "code",
   "execution_count": 26,
   "id": "1d2b6292-7fb0-4f49-8805-813b28fcb174",
   "metadata": {},
   "outputs": [
    {
     "data": {
      "text/plain": [
       "'work'"
      ]
     },
     "execution_count": 26,
     "metadata": {},
     "output_type": "execute_result"
    }
   ],
   "source": [
    "wnl.lemmatize('working',pos='v')"
   ]
  },
  {
   "cell_type": "code",
   "execution_count": 27,
   "id": "376b7158-c212-4252-b6b4-a0df233b283d",
   "metadata": {},
   "outputs": [
    {
     "name": "stdout",
     "output_type": "stream",
     "text": [
      "went\n",
      "go\n"
     ]
    }
   ],
   "source": [
    "print(ps.stem('went'))\n",
    "print(wnl.lemmatize('went',pos='v'))"
   ]
  },
  {
   "cell_type": "code",
   "execution_count": 28,
   "id": "22afe7a2-dfee-4241-93e3-1724267544c0",
   "metadata": {},
   "outputs": [],
   "source": [
    "z = [wnl.lemmatize(word, pos='v') for word in x]"
   ]
  },
  {
   "cell_type": "code",
   "execution_count": 29,
   "id": "b6753392-2bbe-4999-83a8-2b9e1d3ca890",
   "metadata": {},
   "outputs": [
    {
     "data": {
      "text/plain": [
       "['The',\n",
       " 'Ellora',\n",
       " 'Caves',\n",
       " ',',\n",
       " 'locate',\n",
       " 'near',\n",
       " 'Aurangabad',\n",
       " 'Maharashtra',\n",
       " ',',\n",
       " 'India',\n",
       " ',',\n",
       " 'UNESCO',\n",
       " 'World',\n",
       " 'Heritage',\n",
       " 'Site',\n",
       " 'renowned',\n",
       " 'impressive',\n",
       " 'rock-cut',\n",
       " 'temples',\n",
       " 'monasteries',\n",
       " '.',\n",
       " 'These',\n",
       " 'cave',\n",
       " 'showcase',\n",
       " 'unique',\n",
       " 'blend',\n",
       " 'Buddhist',\n",
       " ',',\n",
       " 'Hindu',\n",
       " ',',\n",
       " 'Jain',\n",
       " 'religious',\n",
       " 'art',\n",
       " 'architecture',\n",
       " ',',\n",
       " 'date',\n",
       " 'back',\n",
       " '6th',\n",
       " '10th',\n",
       " 'centuries',\n",
       " 'CE']"
      ]
     },
     "execution_count": 29,
     "metadata": {},
     "output_type": "execute_result"
    }
   ],
   "source": [
    "z"
   ]
  },
  {
   "cell_type": "code",
   "execution_count": 30,
   "id": "0bf91a3d-4439-4116-9b5b-2b7b908bb80c",
   "metadata": {},
   "outputs": [],
   "source": [
    "import string"
   ]
  },
  {
   "cell_type": "code",
   "execution_count": 31,
   "id": "94dfccb8-d6a8-4a3d-be31-62f59c54772b",
   "metadata": {},
   "outputs": [
    {
     "data": {
      "text/plain": [
       "'!\"#$%&\\'()*+,-./:;<=>?@[\\\\]^_`{|}~'"
      ]
     },
     "execution_count": 31,
     "metadata": {},
     "output_type": "execute_result"
    }
   ],
   "source": [
    "string.punctuation"
   ]
  },
  {
   "cell_type": "code",
   "execution_count": 37,
   "id": "211dd055-057c-49c5-b371-e4fd6b1a46db",
   "metadata": {},
   "outputs": [],
   "source": [
    "t=[word for word in z if word not in string.punctuation]"
   ]
  },
  {
   "cell_type": "code",
   "execution_count": 38,
   "id": "0b15d90b-a9f8-439e-b78f-b4193abc308f",
   "metadata": {
    "scrolled": true
   },
   "outputs": [
    {
     "data": {
      "text/plain": [
       "['The',\n",
       " 'Ellora',\n",
       " 'Caves',\n",
       " 'locate',\n",
       " 'near',\n",
       " 'Aurangabad',\n",
       " 'Maharashtra',\n",
       " 'India',\n",
       " 'UNESCO',\n",
       " 'World',\n",
       " 'Heritage',\n",
       " 'Site',\n",
       " 'renowned',\n",
       " 'impressive',\n",
       " 'rock-cut',\n",
       " 'temples',\n",
       " 'monasteries',\n",
       " 'These',\n",
       " 'cave',\n",
       " 'showcase',\n",
       " 'unique',\n",
       " 'blend',\n",
       " 'Buddhist',\n",
       " 'Hindu',\n",
       " 'Jain',\n",
       " 'religious',\n",
       " 'art',\n",
       " 'architecture',\n",
       " 'date',\n",
       " 'back',\n",
       " '6th',\n",
       " '10th',\n",
       " 'centuries',\n",
       " 'CE']"
      ]
     },
     "execution_count": 38,
     "metadata": {},
     "output_type": "execute_result"
    }
   ],
   "source": [
    "t"
   ]
  },
  {
   "cell_type": "code",
   "execution_count": 39,
   "id": "1cde9cb4-d5a6-404d-98c7-3d3c116bf1e6",
   "metadata": {},
   "outputs": [],
   "source": [
    "from nltk import pos_tag"
   ]
  },
  {
   "cell_type": "code",
   "execution_count": 40,
   "id": "54439ce6-8d4c-430c-926c-a2dc26a75844",
   "metadata": {},
   "outputs": [
    {
     "name": "stderr",
     "output_type": "stream",
     "text": [
      "[nltk_data] Downloading package averaged_perceptron_tagger_eng to\n",
      "[nltk_data]     C:\\Users\\PREM ARDWAD\\AppData\\Roaming\\nltk_data...\n",
      "[nltk_data]   Package averaged_perceptron_tagger_eng is already up-to-\n",
      "[nltk_data]       date!\n"
     ]
    }
   ],
   "source": [
    "nltk.download('averaged_perceptron_tagger_eng')\n",
    "  \n",
    "tagged=pos_tag(t)"
   ]
  },
  {
   "cell_type": "code",
   "execution_count": 41,
   "id": "7969b663-2978-4393-919b-ee607dde617c",
   "metadata": {},
   "outputs": [
    {
     "data": {
      "text/plain": [
       "[('The', 'DT'),\n",
       " ('Ellora', 'NNP'),\n",
       " ('Caves', 'NNP'),\n",
       " ('locate', 'VBP'),\n",
       " ('near', 'IN'),\n",
       " ('Aurangabad', 'NNP'),\n",
       " ('Maharashtra', 'NNP'),\n",
       " ('India', 'NNP'),\n",
       " ('UNESCO', 'NNP'),\n",
       " ('World', 'NNP'),\n",
       " ('Heritage', 'NNP'),\n",
       " ('Site', 'NNP'),\n",
       " ('renowned', 'VBD'),\n",
       " ('impressive', 'JJ'),\n",
       " ('rock-cut', 'JJ'),\n",
       " ('temples', 'NNS'),\n",
       " ('monasteries', 'NNS'),\n",
       " ('These', 'DT'),\n",
       " ('cave', 'VBP'),\n",
       " ('showcase', 'NN'),\n",
       " ('unique', 'JJ'),\n",
       " ('blend', 'VBP'),\n",
       " ('Buddhist', 'NNP'),\n",
       " ('Hindu', 'NNP'),\n",
       " ('Jain', 'NNP'),\n",
       " ('religious', 'JJ'),\n",
       " ('art', 'NN'),\n",
       " ('architecture', 'NN'),\n",
       " ('date', 'NN'),\n",
       " ('back', 'RB'),\n",
       " ('6th', 'CD'),\n",
       " ('10th', 'JJ'),\n",
       " ('centuries', 'NNS'),\n",
       " ('CE', 'NNP')]"
      ]
     },
     "execution_count": 41,
     "metadata": {},
     "output_type": "execute_result"
    }
   ],
   "source": [
    "tagged"
   ]
  },
  {
   "cell_type": "code",
   "execution_count": 45,
   "id": "fc718116-e0e2-46b2-828f-43f52f849f31",
   "metadata": {},
   "outputs": [],
   "source": [
    "from sklearn.feature_extraction.text import TfidfVectorizer"
   ]
  },
  {
   "cell_type": "code",
   "execution_count": 46,
   "id": "156d9446-8a8d-49ff-82d0-0bfc75d1469b",
   "metadata": {},
   "outputs": [],
   "source": [
    "vectorize=TfidfVectorizer()"
   ]
  },
  {
   "cell_type": "code",
   "execution_count": 50,
   "id": "c4b801aa-83b8-4573-a33e-ab9a003eccf4",
   "metadata": {},
   "outputs": [
    {
     "data": {
      "text/plain": [
       "<Compressed Sparse Row sparse matrix of dtype 'float64'\n",
       "\twith 35 stored elements and shape (34, 35)>"
      ]
     },
     "execution_count": 50,
     "metadata": {},
     "output_type": "execute_result"
    }
   ],
   "source": [
    "v=vectorize.fit_transform(t)\n",
    "v"
   ]
  },
  {
   "cell_type": "code",
   "execution_count": 48,
   "id": "aa0dff78-3279-4975-8786-a8c9ccc326cf",
   "metadata": {},
   "outputs": [],
   "source": [
    "import pandas as pd"
   ]
  },
  {
   "cell_type": "code",
   "execution_count": 49,
   "id": "6a6a10c1-231f-4a0e-a846-70326583925e",
   "metadata": {},
   "outputs": [
    {
     "data": {
      "text/html": [
       "<div>\n",
       "<style scoped>\n",
       "    .dataframe tbody tr th:only-of-type {\n",
       "        vertical-align: middle;\n",
       "    }\n",
       "\n",
       "    .dataframe tbody tr th {\n",
       "        vertical-align: top;\n",
       "    }\n",
       "\n",
       "    .dataframe thead th {\n",
       "        text-align: right;\n",
       "    }\n",
       "</style>\n",
       "<table border=\"1\" class=\"dataframe\">\n",
       "  <thead>\n",
       "    <tr style=\"text-align: right;\">\n",
       "      <th></th>\n",
       "      <th>0</th>\n",
       "    </tr>\n",
       "  </thead>\n",
       "  <tbody>\n",
       "    <tr>\n",
       "      <th>0</th>\n",
       "      <td>&lt;Compressed Sparse Row sparse matrix of dtype ...</td>\n",
       "    </tr>\n",
       "    <tr>\n",
       "      <th>1</th>\n",
       "      <td>&lt;Compressed Sparse Row sparse matrix of dtype ...</td>\n",
       "    </tr>\n",
       "    <tr>\n",
       "      <th>2</th>\n",
       "      <td>&lt;Compressed Sparse Row sparse matrix of dtype ...</td>\n",
       "    </tr>\n",
       "    <tr>\n",
       "      <th>3</th>\n",
       "      <td>&lt;Compressed Sparse Row sparse matrix of dtype ...</td>\n",
       "    </tr>\n",
       "    <tr>\n",
       "      <th>4</th>\n",
       "      <td>&lt;Compressed Sparse Row sparse matrix of dtype ...</td>\n",
       "    </tr>\n",
       "    <tr>\n",
       "      <th>5</th>\n",
       "      <td>&lt;Compressed Sparse Row sparse matrix of dtype ...</td>\n",
       "    </tr>\n",
       "    <tr>\n",
       "      <th>6</th>\n",
       "      <td>&lt;Compressed Sparse Row sparse matrix of dtype ...</td>\n",
       "    </tr>\n",
       "    <tr>\n",
       "      <th>7</th>\n",
       "      <td>&lt;Compressed Sparse Row sparse matrix of dtype ...</td>\n",
       "    </tr>\n",
       "    <tr>\n",
       "      <th>8</th>\n",
       "      <td>&lt;Compressed Sparse Row sparse matrix of dtype ...</td>\n",
       "    </tr>\n",
       "    <tr>\n",
       "      <th>9</th>\n",
       "      <td>&lt;Compressed Sparse Row sparse matrix of dtype ...</td>\n",
       "    </tr>\n",
       "    <tr>\n",
       "      <th>10</th>\n",
       "      <td>&lt;Compressed Sparse Row sparse matrix of dtype ...</td>\n",
       "    </tr>\n",
       "    <tr>\n",
       "      <th>11</th>\n",
       "      <td>&lt;Compressed Sparse Row sparse matrix of dtype ...</td>\n",
       "    </tr>\n",
       "    <tr>\n",
       "      <th>12</th>\n",
       "      <td>&lt;Compressed Sparse Row sparse matrix of dtype ...</td>\n",
       "    </tr>\n",
       "    <tr>\n",
       "      <th>13</th>\n",
       "      <td>&lt;Compressed Sparse Row sparse matrix of dtype ...</td>\n",
       "    </tr>\n",
       "    <tr>\n",
       "      <th>14</th>\n",
       "      <td>&lt;Compressed Sparse Row sparse matrix of dtype ...</td>\n",
       "    </tr>\n",
       "    <tr>\n",
       "      <th>15</th>\n",
       "      <td>&lt;Compressed Sparse Row sparse matrix of dtype ...</td>\n",
       "    </tr>\n",
       "    <tr>\n",
       "      <th>16</th>\n",
       "      <td>&lt;Compressed Sparse Row sparse matrix of dtype ...</td>\n",
       "    </tr>\n",
       "    <tr>\n",
       "      <th>17</th>\n",
       "      <td>&lt;Compressed Sparse Row sparse matrix of dtype ...</td>\n",
       "    </tr>\n",
       "    <tr>\n",
       "      <th>18</th>\n",
       "      <td>&lt;Compressed Sparse Row sparse matrix of dtype ...</td>\n",
       "    </tr>\n",
       "    <tr>\n",
       "      <th>19</th>\n",
       "      <td>&lt;Compressed Sparse Row sparse matrix of dtype ...</td>\n",
       "    </tr>\n",
       "    <tr>\n",
       "      <th>20</th>\n",
       "      <td>&lt;Compressed Sparse Row sparse matrix of dtype ...</td>\n",
       "    </tr>\n",
       "    <tr>\n",
       "      <th>21</th>\n",
       "      <td>&lt;Compressed Sparse Row sparse matrix of dtype ...</td>\n",
       "    </tr>\n",
       "    <tr>\n",
       "      <th>22</th>\n",
       "      <td>&lt;Compressed Sparse Row sparse matrix of dtype ...</td>\n",
       "    </tr>\n",
       "    <tr>\n",
       "      <th>23</th>\n",
       "      <td>&lt;Compressed Sparse Row sparse matrix of dtype ...</td>\n",
       "    </tr>\n",
       "    <tr>\n",
       "      <th>24</th>\n",
       "      <td>&lt;Compressed Sparse Row sparse matrix of dtype ...</td>\n",
       "    </tr>\n",
       "    <tr>\n",
       "      <th>25</th>\n",
       "      <td>&lt;Compressed Sparse Row sparse matrix of dtype ...</td>\n",
       "    </tr>\n",
       "    <tr>\n",
       "      <th>26</th>\n",
       "      <td>&lt;Compressed Sparse Row sparse matrix of dtype ...</td>\n",
       "    </tr>\n",
       "    <tr>\n",
       "      <th>27</th>\n",
       "      <td>&lt;Compressed Sparse Row sparse matrix of dtype ...</td>\n",
       "    </tr>\n",
       "    <tr>\n",
       "      <th>28</th>\n",
       "      <td>&lt;Compressed Sparse Row sparse matrix of dtype ...</td>\n",
       "    </tr>\n",
       "    <tr>\n",
       "      <th>29</th>\n",
       "      <td>&lt;Compressed Sparse Row sparse matrix of dtype ...</td>\n",
       "    </tr>\n",
       "    <tr>\n",
       "      <th>30</th>\n",
       "      <td>&lt;Compressed Sparse Row sparse matrix of dtype ...</td>\n",
       "    </tr>\n",
       "    <tr>\n",
       "      <th>31</th>\n",
       "      <td>&lt;Compressed Sparse Row sparse matrix of dtype ...</td>\n",
       "    </tr>\n",
       "    <tr>\n",
       "      <th>32</th>\n",
       "      <td>&lt;Compressed Sparse Row sparse matrix of dtype ...</td>\n",
       "    </tr>\n",
       "    <tr>\n",
       "      <th>33</th>\n",
       "      <td>&lt;Compressed Sparse Row sparse matrix of dtype ...</td>\n",
       "    </tr>\n",
       "  </tbody>\n",
       "</table>\n",
       "</div>"
      ],
      "text/plain": [
       "                                                    0\n",
       "0   <Compressed Sparse Row sparse matrix of dtype ...\n",
       "1   <Compressed Sparse Row sparse matrix of dtype ...\n",
       "2   <Compressed Sparse Row sparse matrix of dtype ...\n",
       "3   <Compressed Sparse Row sparse matrix of dtype ...\n",
       "4   <Compressed Sparse Row sparse matrix of dtype ...\n",
       "5   <Compressed Sparse Row sparse matrix of dtype ...\n",
       "6   <Compressed Sparse Row sparse matrix of dtype ...\n",
       "7   <Compressed Sparse Row sparse matrix of dtype ...\n",
       "8   <Compressed Sparse Row sparse matrix of dtype ...\n",
       "9   <Compressed Sparse Row sparse matrix of dtype ...\n",
       "10  <Compressed Sparse Row sparse matrix of dtype ...\n",
       "11  <Compressed Sparse Row sparse matrix of dtype ...\n",
       "12  <Compressed Sparse Row sparse matrix of dtype ...\n",
       "13  <Compressed Sparse Row sparse matrix of dtype ...\n",
       "14  <Compressed Sparse Row sparse matrix of dtype ...\n",
       "15  <Compressed Sparse Row sparse matrix of dtype ...\n",
       "16  <Compressed Sparse Row sparse matrix of dtype ...\n",
       "17  <Compressed Sparse Row sparse matrix of dtype ...\n",
       "18  <Compressed Sparse Row sparse matrix of dtype ...\n",
       "19  <Compressed Sparse Row sparse matrix of dtype ...\n",
       "20  <Compressed Sparse Row sparse matrix of dtype ...\n",
       "21  <Compressed Sparse Row sparse matrix of dtype ...\n",
       "22  <Compressed Sparse Row sparse matrix of dtype ...\n",
       "23  <Compressed Sparse Row sparse matrix of dtype ...\n",
       "24  <Compressed Sparse Row sparse matrix of dtype ...\n",
       "25  <Compressed Sparse Row sparse matrix of dtype ...\n",
       "26  <Compressed Sparse Row sparse matrix of dtype ...\n",
       "27  <Compressed Sparse Row sparse matrix of dtype ...\n",
       "28  <Compressed Sparse Row sparse matrix of dtype ...\n",
       "29  <Compressed Sparse Row sparse matrix of dtype ...\n",
       "30  <Compressed Sparse Row sparse matrix of dtype ...\n",
       "31  <Compressed Sparse Row sparse matrix of dtype ...\n",
       "32  <Compressed Sparse Row sparse matrix of dtype ...\n",
       "33  <Compressed Sparse Row sparse matrix of dtype ..."
      ]
     },
     "execution_count": 49,
     "metadata": {},
     "output_type": "execute_result"
    }
   ],
   "source": [
    "pd.DataFrame(v)"
   ]
  },
  {
   "cell_type": "code",
   "execution_count": null,
   "id": "2457c723-ea95-4c06-a56f-d78d2e845eed",
   "metadata": {},
   "outputs": [],
   "source": []
  }
 ],
 "metadata": {
  "kernelspec": {
   "display_name": "Python 3 (ipykernel)",
   "language": "python",
   "name": "python3"
  },
  "language_info": {
   "codemirror_mode": {
    "name": "ipython",
    "version": 3
   },
   "file_extension": ".py",
   "mimetype": "text/x-python",
   "name": "python",
   "nbconvert_exporter": "python",
   "pygments_lexer": "ipython3",
   "version": "3.13.3"
  }
 },
 "nbformat": 4,
 "nbformat_minor": 5
}
